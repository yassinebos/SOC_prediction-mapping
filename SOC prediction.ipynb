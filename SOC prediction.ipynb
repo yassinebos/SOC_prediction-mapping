{
  "cells": [
    {
      "cell_type": "code",
      "execution_count": null,
      "metadata": {
        "id": "060yJGUjlZGN"
      },
      "outputs": [],
      "source": [
        "!pip install xgboost\n",
        "!pip install joblib\n",
        "!pip install scikit-learn"
      ]
    },
    {
      "cell_type": "code",
      "execution_count": null,
      "metadata": {
        "id": "n__ea4jGlfH7"
      },
      "outputs": [],
      "source": [
        "import pandas as pd\n",
        "import numpy as np\n",
        "from sklearn.feature_selection import RFE\n",
        "from sklearn.ensemble import RandomForestRegressor\n",
        "from sklearn.svm import SVR\n",
        "from sklearn.model_selection import train_test_split, GridSearchCV\n",
        "from xgboost import XGBRegressor\n",
        "from sklearn.metrics import mean_squared_error, r2_score\n",
        "from scipy.stats import pearsonr\n",
        "import joblib\n",
        "import matplotlib.pyplot as plt\n",
        "import seaborn as sns"
      ]
    },
    {
      "cell_type": "code",
      "execution_count": null,
      "metadata": {
        "id": "1ITuRdLolhAD"
      },
      "outputs": [],
      "source": [
        "# Datasets\n",
        "train_df = pd.read_excel('/content/train_SOC.xlsx')\n",
        "test_df = pd.read_excel('/content/test_SOC.xlsx')\n",
        "\n",
        "X_train = train_df.drop(['ID', 'SOC(%)'], axis=1)\n",
        "y_train = train_df['SOC(%)']\n",
        "X_test = test_df.drop(['ID', 'SOC(%)'], axis=1)\n",
        "y_test = test_df['SOC(%)']"
      ]
    },
    {
      "cell_type": "code",
      "execution_count": null,
      "metadata": {
        "id": "BTS4JkUSlxcD"
      },
      "outputs": [],
      "source": [
        "# Feature Selection RFE\n",
        "estimator = RandomForestRegressor(n_estimators=100)\n",
        "selector = RFE(estimator, n_features_to_select=10, step=1)\n",
        "selector = selector.fit(X_train, y_train)\n",
        "\n",
        "selected_features = pd.Series(selector.ranking_, index=X_train.columns)\n",
        "\n",
        "X_train_selected = selector.transform(X_train)\n",
        "X_test_selected = selector.transform(X_test)"
      ]
    },
    {
      "cell_type": "code",
      "execution_count": null,
      "metadata": {
        "id": "cSHPhzzrl0R0"
      },
      "outputs": [],
      "source": [
        "# Convert arrays back to DataFrames\n",
        "X_train_selected_df = pd.DataFrame(X_train_selected, columns=selected_features[selected_features==1].index)\n",
        "X_test_selected_df = pd.DataFrame(X_test_selected, columns=selected_features[selected_features==1].index)\n",
        "\n",
        "# Save to Excel\n",
        "X_train_selected_df.to_excel('/content/train_selected_SOC.xlsx', index=False)\n",
        "X_test_selected_df.to_excel('/content/test_selected_SOC.xlsx', index=False)\n"
      ]
    },
    {
      "cell_type": "code",
      "execution_count": null,
      "metadata": {
        "id": "75Wnw1BunYob"
      },
      "outputs": [],
      "source": [
        "# Random Forest\n",
        "rf_parameters = {\n",
        "    'n_estimators': [100, 500, 1000],\n",
        "    'max_depth': [None, 10, 20, 30],\n",
        "    'min_samples_split': [2, 5, 10],\n",
        "    'min_samples_leaf': [1, 2, 4],\n",
        "    'max_features': ['auto', 'sqrt', 'log2']\n",
        "}\n",
        "\n",
        "rf_grid_search = GridSearchCV(estimator=RandomForestRegressor(), param_grid=rf_parameters, cv=5, n_jobs=-1, verbose=2)\n",
        "rf_grid_search.fit(X_train_selected, y_train)\n",
        "\n",
        "print(rf_grid_search.best_params_)"
      ]
    },
    {
      "cell_type": "code",
      "execution_count": null,
      "metadata": {
        "id": "XwxPkyOxnctE"
      },
      "outputs": [],
      "source": [
        "# Support Vector Regression (SVR)\n",
        "svr_parameters = {\n",
        "    'C': [0.1, 1, 10, 100],\n",
        "    'epsilon': [0.01, 0.1, 0.5, 1],\n",
        "    'gamma': ['scale', 'auto', 0.01, 0.1, 1]\n",
        "}\n",
        "\n",
        "svr_grid_search = GridSearchCV(SVR(), param_grid=svr_parameters, cv=5, n_jobs=-1, verbose=2)\n",
        "svr_grid_search.fit(X_train_selected, y_train)\n",
        "\n",
        "print(svr_grid_search.best_params_)\n"
      ]
    },
    {
      "cell_type": "code",
      "execution_count": null,
      "metadata": {
        "id": "9Y5595rIndn-"
      },
      "outputs": [],
      "source": [
        "# XGBoost\n",
        "xgb_parameters = {\n",
        "    'learning_rate': [0.01, 0.05, 0.1, 0.3],\n",
        "    'max_depth': [4, 7, 10, 13],\n",
        "    'gamma': [0, 0.1, 0.2],\n",
        "    'colsample_bytree': [0.5, 0.7, 1],\n",
        "    'min_child_weight': [1, 5, 10],\n",
        "    'subsample': [0.5, 0.75, 1],\n",
        "    'n_estimators': [50, 100, 150]\n",
        "}\n",
        "\n",
        "xgb_grid_search = GridSearchCV(XGBRegressor(), param_grid=xgb_parameters, cv=5, n_jobs=-1, verbose=2)\n",
        "xgb_grid_search.fit(X_train_selected, y_train)\n",
        "\n",
        "print(xgb_grid_search.best_params_)\n"
      ]
    },
    {
      "cell_type": "code",
      "execution_count": null,
      "metadata": {
        "id": "6NCmEYUynuNb"
      },
      "outputs": [],
      "source": [
        "def calculate_metrics(y_true, y_pred):\n",
        "    r2 = r2_score(y_true, y_pred)\n",
        "    rmse = np.sqrt(mean_squared_error(y_true, y_pred))\n",
        "    rpiq = np.std(y_true) / rmse  # Ratio of Performance to Inter-Quartile\n",
        "    return r2, rmse, rpiq\n"
      ]
    },
    {
      "cell_type": "code",
      "execution_count": null,
      "metadata": {
        "id": "KAip9YIHnxh8"
      },
      "outputs": [],
      "source": [
        "# Function to evaluate and export predictions\n",
        "def evaluate_and_export(model, X_train, y_train, X_test, y_test, model_name):\n",
        "    y_train_pred = model.predict(X_train)\n",
        "    y_test_pred = model.predict(X_test)\n",
        "\n",
        "    train_metrics = calculate_metrics(y_train, y_train_pred)\n",
        "    test_metrics = calculate_metrics(y_test, y_test_pred)\n",
        "\n",
        "    print(f\"{model_name} Training Metrics: R2: {train_metrics[0]}, RMSE: {train_metrics[2]}, RPIQ: {train_metrics[3]}\")\n",
        "    print(f\"{model_name} Testing Metrics: R2: {test_metrics[0]}, RMSE: {test_metrics[2]}, RPIQ: {test_metrics[3]}\")\n",
        "\n",
        "\n",
        "    predictions_df = pd.DataFrame({'Actual SOC': y_test, 'Predicted SOC': y_test_pred})\n",
        "    predictions_df.to_excel(f'/content/{model_name}_predictions.xlsx', index=False)\n",
        "\n",
        "\n",
        "evaluate_and_export(rf_grid_search.best_estimator_, X_train_selected, y_train, X_test_selected, y_test, \"RF\")\n",
        "evaluate_and_export(svr_grid_search.best_estimator_, X_train_selected, y_train, X_test_selected, y_test, \"SVR\")\n",
        "evaluate_and_export(xgb_grid_search.best_estimator_, X_train_selected, y_train, X_test_selected, y_test, \"XGBoost\")\n"
      ]
    },
    {
      "cell_type": "code",
      "execution_count": null,
      "metadata": {
        "id": "LIpdJZ3MB_kO"
      },
      "outputs": [],
      "source": [
        "\n",
        "joblib.dump(rf_grid_search.best_estimator_, '/content/best_rf_model.joblib')\n",
        "joblib.dump(xgb_grid_search.best_estimator_, '/content/best_xgb_model.joblib')\n",
        "joblib.dump(svr_grid_search.best_estimator_, '/content/best_svr_model.joblib')"
      ]
    }
  ],
  "metadata": {
    "colab": {
      "provenance": []
    },
    "kernelspec": {
      "display_name": "Python 3",
      "name": "python3"
    },
    "language_info": {
      "name": "python"
    }
  },
  "nbformat": 4,
  "nbformat_minor": 0
}