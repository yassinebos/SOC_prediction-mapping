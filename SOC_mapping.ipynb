{
  "nbformat": 4,
  "nbformat_minor": 0,
  "metadata": {
    "colab": {
      "provenance": []
    },
    "kernelspec": {
      "name": "python3",
      "display_name": "Python 3"
    },
    "language_info": {
      "name": "python"
    }
  },
  "cells": [
    {
      "cell_type": "code",
      "source": [
        "from google.colab import drive\n",
        "drive.mount('/content/drive')"
      ],
      "metadata": {
        "id": "DeFHqTwZbrPQ"
      },
      "execution_count": null,
      "outputs": []
    },
    {
      "cell_type": "code",
      "source": [
        "!pip install rasterio joblib numpy"
      ],
      "metadata": {
        "id": "JXCI2Yr4icX5"
      },
      "execution_count": null,
      "outputs": []
    },
    {
      "cell_type": "code",
      "source": [
        "import rasterio\n",
        "from rasterio import windows\n",
        "\n",
        "def get_split_windows(width, height, splits=4):\n",
        "    \"\"\"Generate windows to split the raster into equal parts.\"\"\"\n",
        "    w, h = width // splits, height // splits\n",
        "    for i in range(splits):\n",
        "        for j in range(splits):\n",
        "            yield windows.Window(col_off=i*w, row_off=j*h, width=w, height=h)\n",
        "\n",
        "def save_window(raster_path, window, idx, output_folder):\n",
        "    \"\"\"Save a specific window of the raster as a new file.\"\"\"\n",
        "    with rasterio.open(raster_path) as src:\n",
        "        window_transform = src.window_transform(window)\n",
        "        out_meta = src.meta.copy()\n",
        "        out_meta.update({\n",
        "            \"driver\": \"GTiff\",\n",
        "            \"height\": window.height,\n",
        "            \"width\": window.width,\n",
        "            \"transform\": window_transform\n",
        "        })\n",
        "\n",
        "        output_path = f\"{output_folder}/part_{idx + 1}.tif\"\n",
        "\n",
        "        with rasterio.open(output_path, \"w\", **out_meta) as dest:\n",
        "            dest.write(src.read(window=window, out_shape=(src.count, window.height, window.width)))\n",
        "\n",
        "# Update paths !!!\n",
        "raster_path = '/content/drive/My Drive/xxx.tif'\n",
        "output_folder = '/content/drive/My Drive/xxx/split_rasters'\n",
        "\n",
        "with rasterio.open(raster_path) as src:\n",
        "    width, height = src.width, src.height\n",
        "    split_windows = list(get_split_windows(width, height, splits=4))\n",
        "\n",
        "for idx, window in enumerate(split_windows):\n",
        "    save_window(raster_path, window, idx, output_folder)\n"
      ],
      "metadata": {
        "id": "SFuxEWBNhiVx"
      },
      "execution_count": null,
      "outputs": []
    },
    {
      "cell_type": "code",
      "source": [
        "from joblib import load\n",
        "import rasterio\n",
        "import numpy as np\n",
        "\n",
        "model_path = '/content/drive/My Drive/xxx/XGBoost_best_model.joblib'\n",
        "part_raster_path = '/content/drive/My Drive/xxx/split_rasters/part_16.tif'\n",
        "output_prediction_path = '/content/drive/My Drive/xxx.tif'\n",
        "\n",
        "\n",
        "model = load(model_path)\n",
        "\n",
        "\n",
        "with rasterio.open(part_raster_path) as src:\n",
        "    meta = src.meta.copy()\n",
        "    data = src.read()\n",
        "\n",
        "    predictions = model.predict(data.reshape(src.count, -1).T).reshape(src.height, src.width)\n",
        "\n",
        "\n",
        "    meta.update(count=1, dtype=predictions.dtype)\n",
        "\n",
        "    with rasterio.open(output_prediction_path, 'w', **meta) as dst:\n",
        "        dst.write(predictions, 1)\n"
      ],
      "metadata": {
        "id": "pPUyZ-KhoROQ"
      },
      "execution_count": null,
      "outputs": []
    }
  ]
}